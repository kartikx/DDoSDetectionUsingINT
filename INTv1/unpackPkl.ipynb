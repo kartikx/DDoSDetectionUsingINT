{
 "cells": [
  {
   "cell_type": "code",
   "execution_count": 20,
   "source": [
    "import pickle\n",
    "from os import path\n",
    "\n",
    "with open(\"train_data.pkl\", \"rb\") as f:\n",
    "    data = pickle.load(f)\n",
    "    with open(\"train_data.csv\", \"w\") as w:\n",
    "        w.write(\"Anomaly,Protocol,Duration, Hop Latency, Egress Time, Flow Latency, Sink Time, Port Utilize, Queue Occupancy\\n\")\n",
    "        for d in data:\n",
    "            del d[1]\n",
    "            d = map(str, d)\n",
    "            w.write(\",\".join(d))\n",
    "            w.write(\"\\n\")"
   ],
   "outputs": [],
   "metadata": {}
  },
  {
   "cell_type": "code",
   "execution_count": 21,
   "source": [
    "import pandas as pd\n",
    "\n",
    "data = pd.read_csv(\"train_data.csv\")\n",
    "print(data)\n",
    "# print(data[\"Duration\"].max())\n"
   ],
   "outputs": [
    {
     "output_type": "stream",
     "name": "stdout",
     "text": [
      "       Anomaly  Protocol  Duration  Hop Latency  Egress Time  Flow Latency  \\\n",
      "0            0        17  0.000000         None         None          None   \n",
      "1            0        17  0.000000          118            0          None   \n",
      "2            0        17  0.000000         None         None          None   \n",
      "3            0        17  0.000000          295            0          None   \n",
      "4            0        17  0.000000          470            0          None   \n",
      "...        ...       ...       ...          ...          ...           ...   \n",
      "39929        0        17  1.020316          333            0          None   \n",
      "39930        0        17  0.000000          107            0          None   \n",
      "39931        0        17  0.000000          356            0          None   \n",
      "39932        0        17  1.025533          141            0          None   \n",
      "39933        0        17  0.000000         None         None          None   \n",
      "\n",
      "       Sink Time  Port Utilize  Queue Occupancy  \n",
      "0              0             0               14  \n",
      "1           None          None             None  \n",
      "2              0             0               14  \n",
      "3           None          None             None  \n",
      "4           None          None             None  \n",
      "...          ...           ...              ...  \n",
      "39929       None          None             None  \n",
      "39930       None          None             None  \n",
      "39931       None          None             None  \n",
      "39932       None          None             None  \n",
      "39933          0             0               15  \n",
      "\n",
      "[39934 rows x 9 columns]\n"
     ]
    }
   ],
   "metadata": {}
  }
 ],
 "metadata": {
  "orig_nbformat": 4,
  "language_info": {
   "name": "python",
   "version": "3.8.10",
   "mimetype": "text/x-python",
   "codemirror_mode": {
    "name": "ipython",
    "version": 3
   },
   "pygments_lexer": "ipython3",
   "nbconvert_exporter": "python",
   "file_extension": ".py"
  },
  "kernelspec": {
   "name": "python3",
   "display_name": "Python 3.8.10 64-bit"
  },
  "interpreter": {
   "hash": "916dbcbb3f70747c44a77c7bcd40155683ae19c65e1c03b4aa3499c5328201f1"
  }
 },
 "nbformat": 4,
 "nbformat_minor": 2
}